{
 "cells": [
  {
   "cell_type": "code",
   "execution_count": 1,
   "metadata": {},
   "outputs": [
    {
     "name": "stdout",
     "output_type": "stream",
     "text": [
      "총 방문자 수: 458441\n",
      "총 노출된 기사의 수: 2295559\n",
      "총 클릭 수: 42449\n"
     ]
    }
   ],
   "source": [
    "#연습문제 1-(1)\n",
    "\n",
    "import pandas as pd\n",
    "day1 = pd.read_csv(\"http://stat.columbia.edu/~rachel/datasets/nyt1.csv\")\n",
    "day1.head()\n",
    "day1.describe(include='all')\n",
    "print('총 방문자 수:', len(day1))\n",
    "print('총 노출된 기사의 수:', sum(day1.Impressions))\n",
    "print('총 클릭 수:', sum(day1['Clicks']))"
   ]
  },
  {
   "cell_type": "code",
   "execution_count": 2,
   "metadata": {},
   "outputs": [
    {
     "name": "stdout",
     "output_type": "stream",
     "text": [
      "로그인한 사람 수: 321335\n",
      "로그인하지 않은 사람 수: 137106\n",
      "Gender가 0인 사람 수: 153070\n",
      "Gender가 1인 사람 수: 168265\n"
     ]
    }
   ],
   "source": [
    "# 연습문제 1-(2)\n",
    "\n",
    "import pandas as pd\n",
    "day1 = pd.read_csv(\"http://stat.columbia.edu/~rachel/datasets/nyt1.csv\")\n",
    "day1.head()\n",
    "day1_signed = day1[day1['Signed_In']==1]\n",
    "day1_unsigned = day1[day1['Signed_In']==0]\n",
    "print('로그인한 사람 수:', len(day1[day1.Signed_In == 1]))\n",
    "print('로그인하지 않은 사람 수:', len(day1[day1.Signed_In == 0]))\n",
    "day1_signed_gender0 = day1_signed[day1_signed['Gender']==0]\n",
    "day1_signed_gender1 = day1_signed[day1_signed['Gender']==1]\n",
    "print('Gender가 0인 사람 수:', len(day1_signed_gender0.Gender))\n",
    "print('Gender가 1인 사람 수:', len(day1_signed_gender1.Gender))"
   ]
  },
  {
   "cell_type": "code",
   "execution_count": 4,
   "metadata": {},
   "outputs": [
    {
     "name": "stdout",
     "output_type": "stream",
     "text": [
      "로그인한 사람의 평균 클릭 수: 0.07147991970996001\n",
      "로그인하지 않은 사람의 평균 클릭 수: 0.14207985062652254\n",
      "로그인한 사람의 평균 클릭 수 < 로그인하지 않은 사람의 평균 클릭 수\n"
     ]
    }
   ],
   "source": [
    "# 연습문제 1-(3)\n",
    "\n",
    "import pandas as pd\n",
    "day1 = pd.read_csv(\"http://stat.columbia.edu/~rachel/datasets/nyt1.csv\")\n",
    "day1.head()\n",
    "day1_signed = day1[day1['Signed_In']==1]\n",
    "day1_unsigned = day1[day1['Signed_In']==0]\n",
    "\n",
    "print('로그인한 사람의 평균 클릭 수:', day1_signed.Clicks.mean())\n",
    "print('로그인하지 않은 사람의 평균 클릭 수:', day1_unsigned.Clicks.mean())\n",
    "\n",
    "if float(day1_signed.Clicks.mean()) < float(day1_unsigned.Clicks.mean()):\n",
    "    print('로그인한 사람의 평균 클릭 수 < 로그인하지 않은 사람의 평균 클릭 수')\n",
    "    \n",
    "elif float(day1_signed.Clicks.mean()) > float(day1_unsigned.Clicks.mean()):\n",
    "    print('로그인한 사람의 평균 클릭 수 > 로그인하지 않은 사람의 평균 클릭 수')\n",
    "    \n",
    "else:\n",
    "    print('로그인한 사람의 평균 클릭 수 = 로그인하지 않은 사람의 평균 클릭 수')"
   ]
  },
  {
   "cell_type": "code",
   "execution_count": 67,
   "metadata": {},
   "outputs": [
    {
     "name": "stdout",
     "output_type": "stream",
     "text": [
      "        Age  Gender  Clicks  Signed_In\n",
      "44363     0       0       4          0\n",
      "118976    0       0       4          0\n",
      "138133    0       0       4          0\n",
      "154063    0       0       4          0\n",
      "184728    0       0       4          0\n",
      "222934    0       0       4          0\n",
      "240348    0       0       4          0\n",
      "336764    0       0       4          0\n",
      "349225    0       0       4          0\n"
     ]
    }
   ],
   "source": [
    "# 연습문제 1-(4)\n",
    "\n",
    "import pandas as pd\n",
    "day1 = pd.read_csv(\"http://stat.columbia.edu/~rachel/datasets/nyt1.csv\")\n",
    "day1.head()\n",
    "day1_maxclicks = day1[day1['Clicks'] == day1.Clicks.max()]\n",
    "day1_maxclicks = day1_maxclicks[['Age','Gender','Clicks','Signed_In']]\n",
    "print(day1_maxclicks)"
   ]
  },
  {
   "cell_type": "code",
   "execution_count": 5,
   "metadata": {},
   "outputs": [
    {
     "data": {
      "text/html": [
       "<div>\n",
       "<style scoped>\n",
       "    .dataframe tbody tr th:only-of-type {\n",
       "        vertical-align: middle;\n",
       "    }\n",
       "\n",
       "    .dataframe tbody tr th {\n",
       "        vertical-align: top;\n",
       "    }\n",
       "\n",
       "    .dataframe thead th {\n",
       "        text-align: right;\n",
       "    }\n",
       "</style>\n",
       "<table border=\"1\" class=\"dataframe\">\n",
       "  <thead>\n",
       "    <tr style=\"text-align: right;\">\n",
       "      <th></th>\n",
       "      <th>Age</th>\n",
       "      <th>Gender</th>\n",
       "      <th>Impressions</th>\n",
       "      <th>Clicks</th>\n",
       "      <th>Signed_In</th>\n",
       "      <th>CTR</th>\n",
       "    </tr>\n",
       "  </thead>\n",
       "  <tbody>\n",
       "    <tr>\n",
       "      <th>count</th>\n",
       "      <td>458441.000000</td>\n",
       "      <td>458441.000000</td>\n",
       "      <td>458441.000000</td>\n",
       "      <td>458441.000000</td>\n",
       "      <td>458441.000000</td>\n",
       "      <td>455375.000000</td>\n",
       "    </tr>\n",
       "    <tr>\n",
       "      <th>mean</th>\n",
       "      <td>29.482551</td>\n",
       "      <td>0.367037</td>\n",
       "      <td>5.007316</td>\n",
       "      <td>0.092594</td>\n",
       "      <td>0.700930</td>\n",
       "      <td>0.018471</td>\n",
       "    </tr>\n",
       "    <tr>\n",
       "      <th>std</th>\n",
       "      <td>23.607034</td>\n",
       "      <td>0.481997</td>\n",
       "      <td>2.239349</td>\n",
       "      <td>0.309973</td>\n",
       "      <td>0.457851</td>\n",
       "      <td>0.069034</td>\n",
       "    </tr>\n",
       "    <tr>\n",
       "      <th>min</th>\n",
       "      <td>0.000000</td>\n",
       "      <td>0.000000</td>\n",
       "      <td>0.000000</td>\n",
       "      <td>0.000000</td>\n",
       "      <td>0.000000</td>\n",
       "      <td>0.000000</td>\n",
       "    </tr>\n",
       "    <tr>\n",
       "      <th>25%</th>\n",
       "      <td>0.000000</td>\n",
       "      <td>0.000000</td>\n",
       "      <td>3.000000</td>\n",
       "      <td>0.000000</td>\n",
       "      <td>0.000000</td>\n",
       "      <td>0.000000</td>\n",
       "    </tr>\n",
       "    <tr>\n",
       "      <th>50%</th>\n",
       "      <td>31.000000</td>\n",
       "      <td>0.000000</td>\n",
       "      <td>5.000000</td>\n",
       "      <td>0.000000</td>\n",
       "      <td>1.000000</td>\n",
       "      <td>0.000000</td>\n",
       "    </tr>\n",
       "    <tr>\n",
       "      <th>75%</th>\n",
       "      <td>48.000000</td>\n",
       "      <td>1.000000</td>\n",
       "      <td>6.000000</td>\n",
       "      <td>0.000000</td>\n",
       "      <td>1.000000</td>\n",
       "      <td>0.000000</td>\n",
       "    </tr>\n",
       "    <tr>\n",
       "      <th>max</th>\n",
       "      <td>108.000000</td>\n",
       "      <td>1.000000</td>\n",
       "      <td>20.000000</td>\n",
       "      <td>4.000000</td>\n",
       "      <td>1.000000</td>\n",
       "      <td>1.000000</td>\n",
       "    </tr>\n",
       "  </tbody>\n",
       "</table>\n",
       "</div>"
      ],
      "text/plain": [
       "                 Age         Gender    Impressions         Clicks  \\\n",
       "count  458441.000000  458441.000000  458441.000000  458441.000000   \n",
       "mean       29.482551       0.367037       5.007316       0.092594   \n",
       "std        23.607034       0.481997       2.239349       0.309973   \n",
       "min         0.000000       0.000000       0.000000       0.000000   \n",
       "25%         0.000000       0.000000       3.000000       0.000000   \n",
       "50%        31.000000       0.000000       5.000000       0.000000   \n",
       "75%        48.000000       1.000000       6.000000       0.000000   \n",
       "max       108.000000       1.000000      20.000000       4.000000   \n",
       "\n",
       "           Signed_In            CTR  \n",
       "count  458441.000000  455375.000000  \n",
       "mean        0.700930       0.018471  \n",
       "std         0.457851       0.069034  \n",
       "min         0.000000       0.000000  \n",
       "25%         0.000000       0.000000  \n",
       "50%         1.000000       0.000000  \n",
       "75%         1.000000       0.000000  \n",
       "max         1.000000       1.000000  "
      ]
     },
     "execution_count": 5,
     "metadata": {},
     "output_type": "execute_result"
    }
   ],
   "source": [
    "# 연습문제 2-(1)\n",
    "\n",
    "import pandas as pd\n",
    "day1 = pd.read_csv(\"http://stat.columbia.edu/~rachel/datasets/nyt1.csv\")\n",
    "day1.head()\n",
    "day1['CTR'] = day1.Clicks / day1.Impressions\n",
    "day1.head()\n",
    "day1.describe()"
   ]
  },
  {
   "cell_type": "code",
   "execution_count": 9,
   "metadata": {},
   "outputs": [
    {
     "name": "stdout",
     "output_type": "stream",
     "text": [
      "로그인한 사람 중 Gender가 0인 사람의 평균 CTR: 0.014622012183866056\n",
      "로그인한 사람 중 Gender가 1인 사람의 평균 CTR: 0.01391852429759764\n"
     ]
    }
   ],
   "source": [
    "# 연습문제 2-(2)\n",
    "\n",
    "import pandas as pd\n",
    "day1 = pd.read_csv(\"http://stat.columbia.edu/~rachel/datasets/nyt1.csv\")\n",
    "day1.head()\n",
    "day1['CTR'] = day1.Clicks / day1.Impressions\n",
    "day1.head()\n",
    "\n",
    "day1_signed = day1[day1['Signed_In']==1]\n",
    "day1_signed_gender0 = day1_signed[day1_signed['Gender']==0]\n",
    "day1_signed_gender1 = day1_signed[day1_signed['Gender']==1]\n",
    "print('로그인한 사람 중 Gender가 0인 사람의 평균 CTR:', day1_signed_gender0.CTR.mean())\n",
    "print('로그인한 사람 중 Gender가 1인 사람의 평균 CTR:', day1_signed_gender1.CTR.mean())"
   ]
  },
  {
   "cell_type": "code",
   "execution_count": null,
   "metadata": {},
   "outputs": [],
   "source": []
  }
 ],
 "metadata": {
  "kernelspec": {
   "display_name": "Python 3",
   "language": "python",
   "name": "python3"
  },
  "language_info": {
   "codemirror_mode": {
    "name": "ipython",
    "version": 3
   },
   "file_extension": ".py",
   "mimetype": "text/x-python",
   "name": "python",
   "nbconvert_exporter": "python",
   "pygments_lexer": "ipython3",
   "version": "3.7.6"
  }
 },
 "nbformat": 4,
 "nbformat_minor": 4
}
